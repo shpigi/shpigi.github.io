{
 "cells": [
  {
   "cell_type": "markdown",
   "metadata": {
    "deletable": true,
    "editable": true
   },
   "source": [
    "# Publications markdown generator for academicpages\n",
    "\n",
    "Takes a TSV of publications with metadata and converts them for use with [academicpages.github.io](academicpages.github.io). This is an interactive Jupyter notebook ([see more info here](http://jupyter-notebook-beginner-guide.readthedocs.io/en/latest/what_is_jupyter.html)). The core python code is also in `publications.py`. Run either from the `markdown_generator` folder after replacing `publications.tsv` with one containing your data.\n",
    "\n",
    "TODO: Make this work with BibTex and other databases of citations, rather than Stuart's non-standard TSV format and citation style.\n"
   ]
  },
  {
   "cell_type": "markdown",
   "metadata": {},
   "source": [
    "## Data format\n",
    "\n",
    "The TSV needs to have the following columns: pub_date, title, venue, excerpt, citation, site_url, and paper_url, with a header at the top. \n",
    "\n",
    "- `excerpt` and `paper_url` can be blank, but the others must have values. \n",
    "- `pub_date` must be formatted as YYYY-MM-DD.\n",
    "- `url_slug` will be the descriptive part of the .md file and the permalink URL for the page about the paper. The .md file will be `YYYY-MM-DD-[url_slug].md` and the permalink will be `https://[yourdomain]/publications/YYYY-MM-DD-[url_slug]`\n",
    "\n",
    "This is how the raw file looks (it doesn't look pretty, use a spreadsheet or other program to edit and create)."
   ]
  },
  {
   "cell_type": "code",
   "execution_count": 9,
   "metadata": {
    "collapsed": false
   },
   "outputs": [
    {
     "name": "stdout",
     "output_type": "stream",
     "text": [
      "pub_date\ttitle\tvenue\texcerpt\tcitation\turl_slug\tpaper_url\tslides_url\n",
      "2023-04-23\tDecoding human spontaneous spiking activity in medial temporal lobe from scalp EEG\tiScience\tLinking scalp electroencephalography (EEG) signals and spontaneous firing activity from deep nuclei in humans is not trivial. This study analyzed simultaneous recordings of scalp EEG and unit activity in medial temporal lobe areas (amygdala and hippocampus). Using linear regression models, the research demonstrated that changes in neuronal firing activity could be estimated from EEG frequency modulations, revealing region-specific dynamics during wakefulness and non-REM sleep.\tShpigelman L. (2023). \"Decoding human spontaneous spiking activity in medial temporal lobe from scalp EEG.\" <i>iScience</i>.\tdecoding-human-spontaneous-spiking\thttps://www.cell.com/iscience/fulltext/S2589-0042(23)00468-6\t\n",
      "2017-01-01\tEpidemiological Models Lacking Process Noise Can Be Overconfident\tInformatics for Health\tHighlighted the importance of using stochastic modeling in population health decision-making. This work demonstrated how deterministic models might lead to overconfident predictions and presented examples using freely available tools to illustrate stochastic modeling's value in epidemic prediction and intervention policy analysis.\tShpigelman L. (2017). \"Epidemiological Models Lacking Process Noise Can Be Overconfident.\" <i>Informatics for Health</i>.\tepidemiological-models-noise\thttps://ebooks.iospress.nl/publication/46317\t\n",
      "2016-08-01\tPsychophysiological whole-brain network clustering based on connectivity dynamics analysis in naturalistic conditions\tHuman Brain Mapping\tIntroduced a novel method, CRNDA, for delineating context-dependent functional brain networks based on connectivity dynamics analysis. Applied to fMRI data, the study identified networks aligned with emotional intensity during naturalistic stimuli, revealing empathy-related and functional processing networks.\tShpigelman L. (2016). \"Psychophysiological whole-brain network clustering based on connectivity dynamics analysis in naturalistic conditions.\" <i>Human Brain Mapping</i>.\tbrain-network-clustering\thttps://pmc.ncbi.nlm.nih.gov/articles/PMC6867387/\t\n",
      "2014-01-01\tEstimating the impact of prevention action: a simulation model of cervical cancer progression\tMIE\tProposed a Bayesian simulation model for estimating cervical cancer prevalence and prevention impacts in East Africa. The model provided actionable insights into vaccination and screening strategies to reduce disease levels based on partial reports and demographic data.\tShpigelman L. (2014). \"Estimating the impact of prevention action: a simulation model of cervical cancer progression.\" <i>MIE</i>.\tcervical-cancer-simulation\thttps://www.sciencedirect.com/science/article/pii/S1386505614000054\t\n",
      "2012-01-01\tEstimating BOLD Signals of Deep Brain Networks From EEG using Canonical Correlation Analysis\tOHBM\tDeveloped a method to estimate deep brain network activity using EEG signals through Canonical Correlation Analysis, linking EEG and BOLD signals to better understand neural activity in various psychological states.\tShpigelman L. (2012). \"Estimating BOLD Signals of Deep Brain Networks From EEG using Canonical Correlation Analysis.\" <i>OHBM</i>.\tbold-signals-eeg\t\n",
      "2011-01-01\tSmarter Log Analysis\tIBM Journal of Research and Development\tPresented the MELODY solution for analyzing extensive log data to detect anomalies and prevent system crashes. The approach leveraged machine learning to highlight root causes of errors, reducing data complexity and improving IT efficiency.\tShpigelman L. (2011). \"Smarter Log Analysis.\" <i>IBM Journal of Research and Development</i>.\tsmarter-log-analysis\thttps://ieeexplore.ieee.org/abstract/document/6032778\t\n",
      "2008-01-01\tKernel-ARMA for Hand Tracking and Brain-Machine Interfacing During 3D Motor Control\tAdvances in Neural Information Processing Systems (NIPS)\tAdapted and implemented the KARMA algorithm to decode motor cortex neural activity for 3D motor control. The research demonstrated improved hand-tracking accuracy in both active and BMI-driven tasks using recurrent nonlinear modeling.\tShpigelman L. (2008). \"Kernel-ARMA for Hand Tracking and Brain-Machine Interfacing During 3D Motor Control.\" <i>Advances in Neural Information Processing Systems</i>.\tkernel-arma-hand-tracking\thttps://papers.nips.cc/paper_files/paper/2008/hash/61b4a64be663682e8cb037d9719ad8cd-Abstract.html\t\n",
      "2006-01-01\tNearest Neighbor Based Feature Selection for Regression and Its Application to Neural Activity\tAdvances in Neural Information Processing Systems (NIPS)\tProposed a k-nearest neighbor-based feature selection method for regression, improving predictive accuracy in neural activity analysis. Applied to motor cortex data, the method identified significant features influencing hand velocity prediction.\tShpigelman L. (2006). \"Nearest Neighbor Based Feature Selection for Regression and Its Application to Neural Activity.\" <i>Advances in Neural Information Processing Systems</i>.\tnearest-neighbor-feature-selection\thttps://papers.nips.cc/paper_files/paper/2005/hash/5a2756a3cb9cde852cad3c97e120b656-Abstract.html\t\n",
      "2005-01-01\tSpikernels: Predicting Arm Movements by Embedding Population Spike Rate Patterns in Inner-Product Spaces\tNeural Computation\tDeveloped Spikernels, biologically motivated kernels for cortical activity modeling. Demonstrated their effectiveness in predicting arm movements from neural population spike counts, outperforming standard scalar products.\tShpigelman L. (2005). \"Spikernels: Predicting Arm Movements by Embedding Population Spike Rate Patterns in Inner-Product Spaces.\" <i>Neural Computation</i>.\tspikernels\thttps://direct.mit.edu/neco/article-abstract/17/3/671/6925/Spikernels-Predicting-Arm-Movements-by-Embedding?redirectedFrom=fulltext\t\n",
      "2004-01-01\tA Temporal Kernel-Based Model for Tracking Hand Movements from Neural Activities\tAdvances in Neural Information Processing Systems (NIPS)\tIntroduced a temporal kernel-based system for dynamic hand-tracking from neural activity. Showcased superior accuracy over static methods, enabling effective BMI-based motor control in real-time experiments.\tShpigelman L. (2004). \"A Temporal Kernel-Based Model for Tracking Hand Movements from Neural Activities.\" <i>Advances in Neural Information Processing Systems</i>.\ttemporal-kernel-hand-tracking\thttps://papers.neurips.cc/paper_files/paper/2004/hash/f35a2bc72dfdc2aae569a0c7370bd7f5-Abstract.html\t"
     ]
    }
   ],
   "source": [
    "!cat publications.tsv"
   ]
  },
  {
   "cell_type": "markdown",
   "metadata": {},
   "source": [
    "## Import pandas\n",
    "\n",
    "We are using the very handy pandas library for dataframes."
   ]
  },
  {
   "cell_type": "code",
   "execution_count": 10,
   "metadata": {
    "collapsed": true,
    "deletable": true,
    "editable": true
   },
   "outputs": [],
   "source": [
    "import pandas as pd"
   ]
  },
  {
   "cell_type": "markdown",
   "metadata": {},
   "source": [
    "## Import TSV\n",
    "\n",
    "Pandas makes this easy with the read_csv function. We are using a TSV, so we specify the separator as a tab, or `\\t`.\n",
    "\n",
    "I found it important to put this data in a tab-separated values format, because there are a lot of commas in this kind of data and comma-separated values can get messed up. However, you can modify the import statement, as pandas also has read_excel(), read_json(), and others."
   ]
  },
  {
   "cell_type": "code",
   "execution_count": 11,
   "metadata": {
    "collapsed": false,
    "deletable": true,
    "editable": true
   },
   "outputs": [
    {
     "data": {
      "text/html": [
       "<div>\n",
       "<style scoped>\n",
       "    .dataframe tbody tr th:only-of-type {\n",
       "        vertical-align: middle;\n",
       "    }\n",
       "\n",
       "    .dataframe tbody tr th {\n",
       "        vertical-align: top;\n",
       "    }\n",
       "\n",
       "    .dataframe thead th {\n",
       "        text-align: right;\n",
       "    }\n",
       "</style>\n",
       "<table border=\"1\" class=\"dataframe\">\n",
       "  <thead>\n",
       "    <tr style=\"text-align: right;\">\n",
       "      <th></th>\n",
       "      <th>pub_date</th>\n",
       "      <th>title</th>\n",
       "      <th>venue</th>\n",
       "      <th>excerpt</th>\n",
       "      <th>citation</th>\n",
       "      <th>url_slug</th>\n",
       "      <th>paper_url</th>\n",
       "      <th>slides_url</th>\n",
       "    </tr>\n",
       "  </thead>\n",
       "  <tbody>\n",
       "    <tr>\n",
       "      <th>0</th>\n",
       "      <td>2023-04-23</td>\n",
       "      <td>Decoding human spontaneous spiking activity in...</td>\n",
       "      <td>iScience</td>\n",
       "      <td>Linking scalp electroencephalography (EEG) sig...</td>\n",
       "      <td>Shpigelman L. (2023). \"Decoding human spontane...</td>\n",
       "      <td>decoding-human-spontaneous-spiking</td>\n",
       "      <td>https://www.cell.com/iscience/fulltext/S2589-0...</td>\n",
       "      <td>NaN</td>\n",
       "    </tr>\n",
       "    <tr>\n",
       "      <th>1</th>\n",
       "      <td>2017-01-01</td>\n",
       "      <td>Epidemiological Models Lacking Process Noise C...</td>\n",
       "      <td>Informatics for Health</td>\n",
       "      <td>Highlighted the importance of using stochastic...</td>\n",
       "      <td>Shpigelman L. (2017). \"Epidemiological Models ...</td>\n",
       "      <td>epidemiological-models-noise</td>\n",
       "      <td>https://ebooks.iospress.nl/publication/46317</td>\n",
       "      <td>NaN</td>\n",
       "    </tr>\n",
       "    <tr>\n",
       "      <th>2</th>\n",
       "      <td>2016-08-01</td>\n",
       "      <td>Psychophysiological whole-brain network cluste...</td>\n",
       "      <td>Human Brain Mapping</td>\n",
       "      <td>Introduced a novel method, CRNDA, for delineat...</td>\n",
       "      <td>Shpigelman L. (2016). \"Psychophysiological who...</td>\n",
       "      <td>brain-network-clustering</td>\n",
       "      <td>https://pmc.ncbi.nlm.nih.gov/articles/PMC6867387/</td>\n",
       "      <td>NaN</td>\n",
       "    </tr>\n",
       "    <tr>\n",
       "      <th>3</th>\n",
       "      <td>2014-01-01</td>\n",
       "      <td>Estimating the impact of prevention action: a ...</td>\n",
       "      <td>MIE</td>\n",
       "      <td>Proposed a Bayesian simulation model for estim...</td>\n",
       "      <td>Shpigelman L. (2014). \"Estimating the impact o...</td>\n",
       "      <td>cervical-cancer-simulation</td>\n",
       "      <td>https://www.sciencedirect.com/science/article/...</td>\n",
       "      <td>NaN</td>\n",
       "    </tr>\n",
       "    <tr>\n",
       "      <th>4</th>\n",
       "      <td>2012-01-01</td>\n",
       "      <td>Estimating BOLD Signals of Deep Brain Networks...</td>\n",
       "      <td>OHBM</td>\n",
       "      <td>Developed a method to estimate deep brain netw...</td>\n",
       "      <td>Shpigelman L. (2012). \"Estimating BOLD Signals...</td>\n",
       "      <td>bold-signals-eeg</td>\n",
       "      <td>NaN</td>\n",
       "      <td>NaN</td>\n",
       "    </tr>\n",
       "    <tr>\n",
       "      <th>5</th>\n",
       "      <td>2011-01-01</td>\n",
       "      <td>Smarter Log Analysis</td>\n",
       "      <td>IBM Journal of Research and Development</td>\n",
       "      <td>Presented the MELODY solution for analyzing ex...</td>\n",
       "      <td>Shpigelman L. (2011). \"Smarter Log Analysis.\" ...</td>\n",
       "      <td>smarter-log-analysis</td>\n",
       "      <td>https://ieeexplore.ieee.org/abstract/document/...</td>\n",
       "      <td>NaN</td>\n",
       "    </tr>\n",
       "    <tr>\n",
       "      <th>6</th>\n",
       "      <td>2008-01-01</td>\n",
       "      <td>Kernel-ARMA for Hand Tracking and Brain-Machin...</td>\n",
       "      <td>Advances in Neural Information Processing Syst...</td>\n",
       "      <td>Adapted and implemented the KARMA algorithm to...</td>\n",
       "      <td>Shpigelman L. (2008). \"Kernel-ARMA for Hand Tr...</td>\n",
       "      <td>kernel-arma-hand-tracking</td>\n",
       "      <td>https://papers.nips.cc/paper_files/paper/2008/...</td>\n",
       "      <td>NaN</td>\n",
       "    </tr>\n",
       "    <tr>\n",
       "      <th>7</th>\n",
       "      <td>2006-01-01</td>\n",
       "      <td>Nearest Neighbor Based Feature Selection for R...</td>\n",
       "      <td>Advances in Neural Information Processing Syst...</td>\n",
       "      <td>Proposed a k-nearest neighbor-based feature se...</td>\n",
       "      <td>Shpigelman L. (2006). \"Nearest Neighbor Based ...</td>\n",
       "      <td>nearest-neighbor-feature-selection</td>\n",
       "      <td>https://papers.nips.cc/paper_files/paper/2005/...</td>\n",
       "      <td>NaN</td>\n",
       "    </tr>\n",
       "    <tr>\n",
       "      <th>8</th>\n",
       "      <td>2005-01-01</td>\n",
       "      <td>Spikernels: Predicting Arm Movements by Embedd...</td>\n",
       "      <td>Neural Computation</td>\n",
       "      <td>Developed Spikernels, biologically motivated k...</td>\n",
       "      <td>Shpigelman L. (2005). \"Spikernels: Predicting ...</td>\n",
       "      <td>spikernels</td>\n",
       "      <td>https://direct.mit.edu/neco/article-abstract/1...</td>\n",
       "      <td>NaN</td>\n",
       "    </tr>\n",
       "    <tr>\n",
       "      <th>9</th>\n",
       "      <td>2004-01-01</td>\n",
       "      <td>A Temporal Kernel-Based Model for Tracking Han...</td>\n",
       "      <td>Advances in Neural Information Processing Syst...</td>\n",
       "      <td>Introduced a temporal kernel-based system for ...</td>\n",
       "      <td>Shpigelman L. (2004). \"A Temporal Kernel-Based...</td>\n",
       "      <td>temporal-kernel-hand-tracking</td>\n",
       "      <td>https://papers.neurips.cc/paper_files/paper/20...</td>\n",
       "      <td>NaN</td>\n",
       "    </tr>\n",
       "  </tbody>\n",
       "</table>\n",
       "</div>"
      ],
      "text/plain": [
       "     pub_date                                              title  \\\n",
       "0  2023-04-23  Decoding human spontaneous spiking activity in...   \n",
       "1  2017-01-01  Epidemiological Models Lacking Process Noise C...   \n",
       "2  2016-08-01  Psychophysiological whole-brain network cluste...   \n",
       "3  2014-01-01  Estimating the impact of prevention action: a ...   \n",
       "4  2012-01-01  Estimating BOLD Signals of Deep Brain Networks...   \n",
       "5  2011-01-01                               Smarter Log Analysis   \n",
       "6  2008-01-01  Kernel-ARMA for Hand Tracking and Brain-Machin...   \n",
       "7  2006-01-01  Nearest Neighbor Based Feature Selection for R...   \n",
       "8  2005-01-01  Spikernels: Predicting Arm Movements by Embedd...   \n",
       "9  2004-01-01  A Temporal Kernel-Based Model for Tracking Han...   \n",
       "\n",
       "                                               venue  \\\n",
       "0                                           iScience   \n",
       "1                             Informatics for Health   \n",
       "2                                Human Brain Mapping   \n",
       "3                                                MIE   \n",
       "4                                               OHBM   \n",
       "5            IBM Journal of Research and Development   \n",
       "6  Advances in Neural Information Processing Syst...   \n",
       "7  Advances in Neural Information Processing Syst...   \n",
       "8                                 Neural Computation   \n",
       "9  Advances in Neural Information Processing Syst...   \n",
       "\n",
       "                                             excerpt  \\\n",
       "0  Linking scalp electroencephalography (EEG) sig...   \n",
       "1  Highlighted the importance of using stochastic...   \n",
       "2  Introduced a novel method, CRNDA, for delineat...   \n",
       "3  Proposed a Bayesian simulation model for estim...   \n",
       "4  Developed a method to estimate deep brain netw...   \n",
       "5  Presented the MELODY solution for analyzing ex...   \n",
       "6  Adapted and implemented the KARMA algorithm to...   \n",
       "7  Proposed a k-nearest neighbor-based feature se...   \n",
       "8  Developed Spikernels, biologically motivated k...   \n",
       "9  Introduced a temporal kernel-based system for ...   \n",
       "\n",
       "                                            citation  \\\n",
       "0  Shpigelman L. (2023). \"Decoding human spontane...   \n",
       "1  Shpigelman L. (2017). \"Epidemiological Models ...   \n",
       "2  Shpigelman L. (2016). \"Psychophysiological who...   \n",
       "3  Shpigelman L. (2014). \"Estimating the impact o...   \n",
       "4  Shpigelman L. (2012). \"Estimating BOLD Signals...   \n",
       "5  Shpigelman L. (2011). \"Smarter Log Analysis.\" ...   \n",
       "6  Shpigelman L. (2008). \"Kernel-ARMA for Hand Tr...   \n",
       "7  Shpigelman L. (2006). \"Nearest Neighbor Based ...   \n",
       "8  Shpigelman L. (2005). \"Spikernels: Predicting ...   \n",
       "9  Shpigelman L. (2004). \"A Temporal Kernel-Based...   \n",
       "\n",
       "                             url_slug  \\\n",
       "0  decoding-human-spontaneous-spiking   \n",
       "1        epidemiological-models-noise   \n",
       "2            brain-network-clustering   \n",
       "3          cervical-cancer-simulation   \n",
       "4                    bold-signals-eeg   \n",
       "5                smarter-log-analysis   \n",
       "6           kernel-arma-hand-tracking   \n",
       "7  nearest-neighbor-feature-selection   \n",
       "8                          spikernels   \n",
       "9       temporal-kernel-hand-tracking   \n",
       "\n",
       "                                           paper_url  slides_url  \n",
       "0  https://www.cell.com/iscience/fulltext/S2589-0...         NaN  \n",
       "1       https://ebooks.iospress.nl/publication/46317         NaN  \n",
       "2  https://pmc.ncbi.nlm.nih.gov/articles/PMC6867387/         NaN  \n",
       "3  https://www.sciencedirect.com/science/article/...         NaN  \n",
       "4                                                NaN         NaN  \n",
       "5  https://ieeexplore.ieee.org/abstract/document/...         NaN  \n",
       "6  https://papers.nips.cc/paper_files/paper/2008/...         NaN  \n",
       "7  https://papers.nips.cc/paper_files/paper/2005/...         NaN  \n",
       "8  https://direct.mit.edu/neco/article-abstract/1...         NaN  \n",
       "9  https://papers.neurips.cc/paper_files/paper/20...         NaN  "
      ]
     },
     "execution_count": 11,
     "metadata": {},
     "output_type": "execute_result"
    }
   ],
   "source": [
    "publications = pd.read_csv(\"publications.tsv\", sep=\"\\t\", header=0)\n",
    "publications\n"
   ]
  },
  {
   "cell_type": "markdown",
   "metadata": {},
   "source": [
    "## Escape special characters\n",
    "\n",
    "YAML is very picky about how it takes a valid string, so we are replacing single and double quotes (and ampersands) with their HTML encoded equivilents. This makes them look not so readable in raw format, but they are parsed and rendered nicely."
   ]
  },
  {
   "cell_type": "code",
   "execution_count": 12,
   "metadata": {
    "collapsed": true,
    "deletable": true,
    "editable": true
   },
   "outputs": [],
   "source": [
    "html_escape_table = {\n",
    "    \"&\": \"&amp;\",\n",
    "    '\"': \"&quot;\",\n",
    "    \"'\": \"&apos;\"\n",
    "    }\n",
    "\n",
    "def html_escape(text):\n",
    "    \"\"\"Produce entities within text.\"\"\"\n",
    "    return \"\".join(html_escape_table.get(c,c) for c in text)"
   ]
  },
  {
   "cell_type": "markdown",
   "metadata": {},
   "source": [
    "## Creating the markdown files\n",
    "\n",
    "This is where the heavy lifting is done. This loops through all the rows in the TSV dataframe, then starts to concatentate a big string (```md```) that contains the markdown for each type. It does the YAML metadata first, then does the description for the individual page."
   ]
  },
  {
   "cell_type": "code",
   "execution_count": 13,
   "metadata": {
    "collapsed": false,
    "deletable": true,
    "editable": true
   },
   "outputs": [],
   "source": [
    "import os\n",
    "for row, item in publications.iterrows():\n",
    "    \n",
    "    md_filename = str(item.pub_date) + \"-\" + item.url_slug + \".md\"\n",
    "    html_filename = str(item.pub_date) + \"-\" + item.url_slug\n",
    "    year = item.pub_date[:4]\n",
    "    \n",
    "    ## YAML variables\n",
    "    \n",
    "    md = \"---\\ntitle: \\\"\"   + item.title + '\"\\n'\n",
    "    \n",
    "    md += \"\"\"collection: publications\"\"\"\n",
    "    \n",
    "    md += \"\"\"\\npermalink: /publication/\"\"\" + html_filename\n",
    "    \n",
    "    if len(str(item.excerpt)) > 5:\n",
    "        md += \"\\nexcerpt: '\" + html_escape(item.excerpt) + \"'\"\n",
    "    \n",
    "    md += \"\\ndate: \" + str(item.pub_date) \n",
    "    \n",
    "    md += \"\\nvenue: '\" + html_escape(item.venue) + \"'\"\n",
    "    \n",
    "    if len(str(item.slides_url)) > 5:\n",
    "        md += \"\\nslidesurl: '\" + item.slides_url + \"'\"\n",
    "\n",
    "    if len(str(item.paper_url)) > 5:\n",
    "        md += \"\\npaperurl: '\" + item.paper_url + \"'\"\n",
    "    \n",
    "    md += \"\\ncitation: '\" + html_escape(item.citation) + \"'\"\n",
    "    \n",
    "    md += \"\\n---\"\n",
    "    \n",
    "    ## Markdown description for individual page\n",
    "        \n",
    "    if len(str(item.excerpt)) > 5:\n",
    "        md += \"\\n\" + html_escape(item.excerpt) + \"\\n\"\n",
    "\n",
    "    if len(str(item.slides_url)) > 5:\n",
    "        md += \"\\n[Download slides here](\" + item.slides_url + \")\\n\" \n",
    "\n",
    "    if len(str(item.paper_url)) > 5:\n",
    "        md += \"\\n[Download paper here](\" + item.paper_url + \")\\n\" \n",
    "        \n",
    "    md += \"\\nRecommended citation: \" + item.citation\n",
    "    \n",
    "    md_filename = os.path.basename(md_filename)\n",
    "       \n",
    "    with open(\"../_publications/\" + md_filename, 'w') as f:\n",
    "        f.write(md)"
   ]
  },
  {
   "cell_type": "markdown",
   "metadata": {},
   "source": [
    "These files are in the publications directory, one directory below where we're working from."
   ]
  },
  {
   "cell_type": "code",
   "execution_count": 14,
   "metadata": {
    "collapsed": false,
    "deletable": true,
    "editable": true
   },
   "outputs": [
    {
     "name": "stdout",
     "output_type": "stream",
     "text": [
      "2004-01-01-temporal-kernel-hand-tracking.md\n",
      "2005-01-01-spikernels.md\n",
      "2006-01-01-nearest-neighbor-feature-selection.md\n",
      "2008-01-01-kernel-arma-hand-tracking.md\n",
      "2011-01-01-smarter-log-analysis.md\n",
      "2012-01-01-bold-signals-eeg.md\n",
      "2014-01-01-cervical-cancer-simulation.md\n",
      "2016-08-01-brain-network-clustering.md\n",
      "2017-01-01-epidemiological-models-noise.md\n",
      "2023-04-23-decoding-human-spontaneous-spiking.md\n"
     ]
    }
   ],
   "source": [
    "!ls ../_publications/"
   ]
  },
  {
   "cell_type": "code",
   "execution_count": 15,
   "metadata": {
    "collapsed": false,
    "deletable": true,
    "editable": true
   },
   "outputs": [
    {
     "name": "stdout",
     "output_type": "stream",
     "text": [
      "---\n",
      "title: \"A Temporal Kernel-Based Model for Tracking Hand Movements from Neural Activities\"\n",
      "collection: publications\n",
      "permalink: /publication/2004-01-01-temporal-kernel-hand-tracking\n",
      "excerpt: 'Introduced a temporal kernel-based system for dynamic hand-tracking from neural activity. Showcased superior accuracy over static methods, enabling effective BMI-based motor control in real-time experiments.'\n",
      "date: 2004-01-01\n",
      "venue: 'Advances in Neural Information Processing Systems (NIPS)'\n",
      "paperurl: 'https://papers.neurips.cc/paper_files/paper/2004/hash/f35a2bc72dfdc2aae569a0c7370bd7f5-Abstract.html'\n",
      "citation: 'Shpigelman L. (2004). &quot;A Temporal Kernel-Based Model for Tracking Hand Movements from Neural Activities.&quot; <i>Advances in Neural Information Processing Systems</i>.'\n",
      "---\n",
      "Introduced a temporal kernel-based system for dynamic hand-tracking from neural activity. Showcased superior accuracy over static methods, enabling effective BMI-based motor control in real-time experiments.\n",
      "\n",
      "[Download paper here](https://papers.neurips.cc/paper_files/paper/2004/hash/f35a2bc72dfdc2aae569a0c7370bd7f5-Abstract.html)\n",
      "\n",
      "Recommended citation: Shpigelman L. (2004). \"A Temporal Kernel-Based Model for Tracking Hand Movements from Neural Activities.\" <i>Advances in Neural Information Processing Systems</i>."
     ]
    }
   ],
   "source": [
    "!cat ../_publications/2004-01-01-temporal-kernel-hand-tracking.md"
   ]
  },
  {
   "cell_type": "code",
   "execution_count": null,
   "metadata": {
    "collapsed": true,
    "deletable": true,
    "editable": true
   },
   "outputs": [],
   "source": []
  },
  {
   "cell_type": "code",
   "execution_count": null,
   "metadata": {},
   "outputs": [],
   "source": []
  }
 ],
 "metadata": {
  "kernelspec": {
   "display_name": "base",
   "language": "python",
   "name": "python3"
  },
  "language_info": {
   "codemirror_mode": {
    "name": "ipython",
    "version": 3
   },
   "file_extension": ".py",
   "mimetype": "text/x-python",
   "name": "python",
   "nbconvert_exporter": "python",
   "pygments_lexer": "ipython3",
   "version": "3.12.6"
  }
 },
 "nbformat": 4,
 "nbformat_minor": 0
}
